{
 "cells": [
  {
   "cell_type": "markdown",
   "metadata": {},
   "source": [
    "# What is the True Normal Human Body Temperature? \n",
    "\n",
    "#### Background\n",
    "\n",
    "The mean normal body temperature was held to be 37$^{\\circ}$C or 98.6$^{\\circ}$F for more than 120 years since it was first conceptualized and reported by Carl Wunderlich in a famous 1868 book. But, is this value statistically correct?"
   ]
  },
  {
   "cell_type": "markdown",
   "metadata": {},
   "source": [
    "<h3>Exercises</h3>\n",
    "\n",
    "<p>In this exercise, you will analyze a dataset of human body temperatures and employ the concepts of hypothesis testing, confidence intervals, and statistical significance.</p>\n",
    "\n",
    "<p>Answer the following questions <b>in this notebook below and submit to your Github account</b>.</p> \n",
    "\n",
    "<ol>\n",
    "<li>  Is the distribution of body temperatures normal? \n",
    "    <ul>\n",
    "    <li> Although this is not a requirement for the Central Limit Theorem to hold (read the introduction on Wikipedia's page about the CLT carefully: https://en.wikipedia.org/wiki/Central_limit_theorem), it gives us some peace of mind that the population may also be normally distributed if we assume that this sample is representative of the population.\n",
    "    <li> Think about the way you're going to check for the normality of the distribution. Graphical methods are usually used first, but there are also other ways: https://en.wikipedia.org/wiki/Normality_test\n",
    "    </ul>\n",
    "<li>  Is the sample size large? Are the observations independent?\n",
    "    <ul>\n",
    "    <li> Remember that this is a condition for the Central Limit Theorem, and hence the statistical tests we are using, to apply.\n",
    "    </ul>\n",
    "<li>  Is the true population mean really 98.6 degrees F?\n",
    "    <ul>\n",
    "    <li> First, try a bootstrap hypothesis test.\n",
    "    <li> Now, let's try frequentist statistical testing. Would you use a one-sample or two-sample test? Why?\n",
    "    <li> In this situation, is it appropriate to use the $t$ or $z$ statistic? \n",
    "    <li> Now try using the other test. How is the result be different? Why?\n",
    "    </ul>\n",
    "<li>  Draw a small sample of size 10 from the data and repeat both frequentist tests. \n",
    "    <ul>\n",
    "    <li> Which one is the correct one to use? \n",
    "    <li> What do you notice? What does this tell you about the difference in application of the $t$ and $z$ statistic?\n",
    "    </ul>\n",
    "<li>  At what temperature should we consider someone's temperature to be \"abnormal\"?\n",
    "    <ul>\n",
    "    <li> As in the previous example, try calculating everything using the boostrap approach, as well as the frequentist approach.\n",
    "    <li> Start by computing the margin of error and confidence interval. When calculating the confidence interval, keep in mind that you should use the appropriate formula for one draw, and not N draws.\n",
    "    </ul>\n",
    "<li>  Is there a significant difference between males and females in normal temperature?\n",
    "    <ul>\n",
    "    <li> What testing approach did you use and why?\n",
    "    <li> Write a story with your conclusion in the context of the original problem.\n",
    "    </ul>\n",
    "</ol>\n",
    "\n",
    "You can include written notes in notebook cells using Markdown: \n",
    "   - In the control panel at the top, choose Cell > Cell Type > Markdown\n",
    "   - Markdown syntax: http://nestacms.com/docs/creating-content/markdown-cheat-sheet\n",
    "\n",
    "#### Resources\n",
    "\n",
    "+ Information and data sources: http://www.amstat.org/publications/jse/datasets/normtemp.txt, http://www.amstat.org/publications/jse/jse_data_archive.htm\n",
    "+ Markdown syntax: http://nestacms.com/docs/creating-content/markdown-cheat-sheet\n",
    "\n",
    "****"
   ]
  },
  {
   "cell_type": "code",
   "execution_count": 2,
   "metadata": {},
   "outputs": [],
   "source": [
    "import pandas as pd\n",
    "import numpy as np\n",
    "import matplotlib.pyplot as plt\n",
    "%matplotlib inline\n",
    "import seaborn as sns\n",
    "from scipy.stats import norm\n",
    "from scipy import stats\n",
    "import math\n",
    "\n",
    "df = pd.read_csv('data/human_body_temperature.csv')"
   ]
  },
  {
   "cell_type": "markdown",
   "metadata": {
    "collapsed": true
   },
   "source": [
    "## Is the distribution of body temperatures normal?"
   ]
  },
  {
   "cell_type": "code",
   "execution_count": 3,
   "metadata": {},
   "outputs": [
    {
     "data": {
      "text/plain": [
       "(130, 3)"
      ]
     },
     "execution_count": 3,
     "metadata": {},
     "output_type": "execute_result"
    }
   ],
   "source": [
    "df.shape"
   ]
  },
  {
   "cell_type": "code",
   "execution_count": 4,
   "metadata": {},
   "outputs": [
    {
     "name": "stdout",
     "output_type": "stream",
     "text": [
      "<class 'pandas.core.frame.DataFrame'>\n",
      "RangeIndex: 130 entries, 0 to 129\n",
      "Data columns (total 3 columns):\n",
      "temperature    130 non-null float64\n",
      "gender         130 non-null object\n",
      "heart_rate     130 non-null float64\n",
      "dtypes: float64(2), object(1)\n",
      "memory usage: 3.1+ KB\n"
     ]
    }
   ],
   "source": [
    "df.info()"
   ]
  },
  {
   "cell_type": "code",
   "execution_count": 5,
   "metadata": {},
   "outputs": [
    {
     "data": {
      "text/html": [
       "<div>\n",
       "<style scoped>\n",
       "    .dataframe tbody tr th:only-of-type {\n",
       "        vertical-align: middle;\n",
       "    }\n",
       "\n",
       "    .dataframe tbody tr th {\n",
       "        vertical-align: top;\n",
       "    }\n",
       "\n",
       "    .dataframe thead th {\n",
       "        text-align: right;\n",
       "    }\n",
       "</style>\n",
       "<table border=\"1\" class=\"dataframe\">\n",
       "  <thead>\n",
       "    <tr style=\"text-align: right;\">\n",
       "      <th></th>\n",
       "      <th>temperature</th>\n",
       "      <th>gender</th>\n",
       "      <th>heart_rate</th>\n",
       "    </tr>\n",
       "  </thead>\n",
       "  <tbody>\n",
       "    <tr>\n",
       "      <th>0</th>\n",
       "      <td>99.3</td>\n",
       "      <td>F</td>\n",
       "      <td>68.0</td>\n",
       "    </tr>\n",
       "    <tr>\n",
       "      <th>1</th>\n",
       "      <td>98.4</td>\n",
       "      <td>F</td>\n",
       "      <td>81.0</td>\n",
       "    </tr>\n",
       "    <tr>\n",
       "      <th>2</th>\n",
       "      <td>97.8</td>\n",
       "      <td>M</td>\n",
       "      <td>73.0</td>\n",
       "    </tr>\n",
       "    <tr>\n",
       "      <th>3</th>\n",
       "      <td>99.2</td>\n",
       "      <td>F</td>\n",
       "      <td>66.0</td>\n",
       "    </tr>\n",
       "    <tr>\n",
       "      <th>4</th>\n",
       "      <td>98.0</td>\n",
       "      <td>F</td>\n",
       "      <td>73.0</td>\n",
       "    </tr>\n",
       "  </tbody>\n",
       "</table>\n",
       "</div>"
      ],
      "text/plain": [
       "   temperature gender  heart_rate\n",
       "0         99.3      F        68.0\n",
       "1         98.4      F        81.0\n",
       "2         97.8      M        73.0\n",
       "3         99.2      F        66.0\n",
       "4         98.0      F        73.0"
      ]
     },
     "execution_count": 5,
     "metadata": {},
     "output_type": "execute_result"
    }
   ],
   "source": [
    "df.head(5)"
   ]
  },
  {
   "cell_type": "code",
   "execution_count": 6,
   "metadata": {},
   "outputs": [
    {
     "data": {
      "text/plain": [
       "count    130.000000\n",
       "mean      98.249231\n",
       "std        0.733183\n",
       "min       96.300000\n",
       "25%       97.800000\n",
       "50%       98.300000\n",
       "75%       98.700000\n",
       "max      100.800000\n",
       "Name: temperature, dtype: float64"
      ]
     },
     "execution_count": 6,
     "metadata": {},
     "output_type": "execute_result"
    }
   ],
   "source": [
    "df.temperature.describe()"
   ]
  },
  {
   "cell_type": "code",
   "execution_count": 7,
   "metadata": {},
   "outputs": [
    {
     "data": {
      "text/plain": [
       "array([ 99.3,  98.4,  97.8,  99.2,  98. ,  98.8,  98.6,  96.7,  98.2,\n",
       "        98.7,  98.3,  97.2,  99.4,  98.1,  97.6,  98.5,  99.5,  99.1,\n",
       "        97.9,  96.4,  96.9,  99. ,  97.4,  97.1,  98.9,  97.7,  97.5,\n",
       "       100. ,  96.8,  99.9,  97. ,  97.3, 100.8,  96.3])"
      ]
     },
     "execution_count": 7,
     "metadata": {},
     "output_type": "execute_result"
    }
   ],
   "source": [
    "df.temperature.unique()"
   ]
  },
  {
   "cell_type": "code",
   "execution_count": 8,
   "metadata": {},
   "outputs": [
    {
     "data": {
      "text/html": [
       "<div>\n",
       "<style scoped>\n",
       "    .dataframe tbody tr th:only-of-type {\n",
       "        vertical-align: middle;\n",
       "    }\n",
       "\n",
       "    .dataframe tbody tr th {\n",
       "        vertical-align: top;\n",
       "    }\n",
       "\n",
       "    .dataframe thead th {\n",
       "        text-align: right;\n",
       "    }\n",
       "</style>\n",
       "<table border=\"1\" class=\"dataframe\">\n",
       "  <thead>\n",
       "    <tr style=\"text-align: right;\">\n",
       "      <th></th>\n",
       "      <th>gender</th>\n",
       "      <th>heart_rate</th>\n",
       "    </tr>\n",
       "    <tr>\n",
       "      <th>temperature</th>\n",
       "      <th></th>\n",
       "      <th></th>\n",
       "    </tr>\n",
       "  </thead>\n",
       "  <tbody>\n",
       "    <tr>\n",
       "      <th>96.3</th>\n",
       "      <td>1</td>\n",
       "      <td>1</td>\n",
       "    </tr>\n",
       "    <tr>\n",
       "      <th>96.4</th>\n",
       "      <td>1</td>\n",
       "      <td>1</td>\n",
       "    </tr>\n",
       "    <tr>\n",
       "      <th>96.7</th>\n",
       "      <td>2</td>\n",
       "      <td>2</td>\n",
       "    </tr>\n",
       "    <tr>\n",
       "      <th>96.8</th>\n",
       "      <td>1</td>\n",
       "      <td>1</td>\n",
       "    </tr>\n",
       "    <tr>\n",
       "      <th>96.9</th>\n",
       "      <td>1</td>\n",
       "      <td>1</td>\n",
       "    </tr>\n",
       "    <tr>\n",
       "      <th>97.0</th>\n",
       "      <td>1</td>\n",
       "      <td>1</td>\n",
       "    </tr>\n",
       "    <tr>\n",
       "      <th>97.1</th>\n",
       "      <td>3</td>\n",
       "      <td>3</td>\n",
       "    </tr>\n",
       "    <tr>\n",
       "      <th>97.2</th>\n",
       "      <td>3</td>\n",
       "      <td>3</td>\n",
       "    </tr>\n",
       "    <tr>\n",
       "      <th>97.3</th>\n",
       "      <td>1</td>\n",
       "      <td>1</td>\n",
       "    </tr>\n",
       "    <tr>\n",
       "      <th>97.4</th>\n",
       "      <td>5</td>\n",
       "      <td>5</td>\n",
       "    </tr>\n",
       "    <tr>\n",
       "      <th>97.5</th>\n",
       "      <td>2</td>\n",
       "      <td>2</td>\n",
       "    </tr>\n",
       "    <tr>\n",
       "      <th>97.6</th>\n",
       "      <td>4</td>\n",
       "      <td>4</td>\n",
       "    </tr>\n",
       "    <tr>\n",
       "      <th>97.7</th>\n",
       "      <td>3</td>\n",
       "      <td>3</td>\n",
       "    </tr>\n",
       "    <tr>\n",
       "      <th>97.8</th>\n",
       "      <td>7</td>\n",
       "      <td>7</td>\n",
       "    </tr>\n",
       "    <tr>\n",
       "      <th>97.9</th>\n",
       "      <td>5</td>\n",
       "      <td>5</td>\n",
       "    </tr>\n",
       "    <tr>\n",
       "      <th>98.0</th>\n",
       "      <td>11</td>\n",
       "      <td>11</td>\n",
       "    </tr>\n",
       "    <tr>\n",
       "      <th>98.1</th>\n",
       "      <td>3</td>\n",
       "      <td>3</td>\n",
       "    </tr>\n",
       "    <tr>\n",
       "      <th>98.2</th>\n",
       "      <td>10</td>\n",
       "      <td>10</td>\n",
       "    </tr>\n",
       "    <tr>\n",
       "      <th>98.3</th>\n",
       "      <td>5</td>\n",
       "      <td>5</td>\n",
       "    </tr>\n",
       "    <tr>\n",
       "      <th>98.4</th>\n",
       "      <td>9</td>\n",
       "      <td>9</td>\n",
       "    </tr>\n",
       "    <tr>\n",
       "      <th>98.5</th>\n",
       "      <td>3</td>\n",
       "      <td>3</td>\n",
       "    </tr>\n",
       "    <tr>\n",
       "      <th>98.6</th>\n",
       "      <td>10</td>\n",
       "      <td>10</td>\n",
       "    </tr>\n",
       "    <tr>\n",
       "      <th>98.7</th>\n",
       "      <td>8</td>\n",
       "      <td>8</td>\n",
       "    </tr>\n",
       "    <tr>\n",
       "      <th>98.8</th>\n",
       "      <td>10</td>\n",
       "      <td>10</td>\n",
       "    </tr>\n",
       "    <tr>\n",
       "      <th>98.9</th>\n",
       "      <td>2</td>\n",
       "      <td>2</td>\n",
       "    </tr>\n",
       "    <tr>\n",
       "      <th>99.0</th>\n",
       "      <td>5</td>\n",
       "      <td>5</td>\n",
       "    </tr>\n",
       "    <tr>\n",
       "      <th>99.1</th>\n",
       "      <td>3</td>\n",
       "      <td>3</td>\n",
       "    </tr>\n",
       "    <tr>\n",
       "      <th>99.2</th>\n",
       "      <td>3</td>\n",
       "      <td>3</td>\n",
       "    </tr>\n",
       "    <tr>\n",
       "      <th>99.3</th>\n",
       "      <td>2</td>\n",
       "      <td>2</td>\n",
       "    </tr>\n",
       "    <tr>\n",
       "      <th>99.4</th>\n",
       "      <td>2</td>\n",
       "      <td>2</td>\n",
       "    </tr>\n",
       "    <tr>\n",
       "      <th>99.5</th>\n",
       "      <td>1</td>\n",
       "      <td>1</td>\n",
       "    </tr>\n",
       "    <tr>\n",
       "      <th>99.9</th>\n",
       "      <td>1</td>\n",
       "      <td>1</td>\n",
       "    </tr>\n",
       "    <tr>\n",
       "      <th>100.0</th>\n",
       "      <td>1</td>\n",
       "      <td>1</td>\n",
       "    </tr>\n",
       "    <tr>\n",
       "      <th>100.8</th>\n",
       "      <td>1</td>\n",
       "      <td>1</td>\n",
       "    </tr>\n",
       "  </tbody>\n",
       "</table>\n",
       "</div>"
      ],
      "text/plain": [
       "             gender  heart_rate\n",
       "temperature                    \n",
       "96.3              1           1\n",
       "96.4              1           1\n",
       "96.7              2           2\n",
       "96.8              1           1\n",
       "96.9              1           1\n",
       "97.0              1           1\n",
       "97.1              3           3\n",
       "97.2              3           3\n",
       "97.3              1           1\n",
       "97.4              5           5\n",
       "97.5              2           2\n",
       "97.6              4           4\n",
       "97.7              3           3\n",
       "97.8              7           7\n",
       "97.9              5           5\n",
       "98.0             11          11\n",
       "98.1              3           3\n",
       "98.2             10          10\n",
       "98.3              5           5\n",
       "98.4              9           9\n",
       "98.5              3           3\n",
       "98.6             10          10\n",
       "98.7              8           8\n",
       "98.8             10          10\n",
       "98.9              2           2\n",
       "99.0              5           5\n",
       "99.1              3           3\n",
       "99.2              3           3\n",
       "99.3              2           2\n",
       "99.4              2           2\n",
       "99.5              1           1\n",
       "99.9              1           1\n",
       "100.0             1           1\n",
       "100.8             1           1"
      ]
     },
     "execution_count": 8,
     "metadata": {},
     "output_type": "execute_result"
    }
   ],
   "source": [
    "df.groupby(['temperature']).count()"
   ]
  },
  {
   "cell_type": "markdown",
   "metadata": {},
   "source": [
    "### Histogram to visually check the distribution follows a Normal curve."
   ]
  },
  {
   "cell_type": "markdown",
   "metadata": {},
   "source": [
    "Since temperature data are continuous, a look at the Probability Density Function provides a view of the distribution:"
   ]
  },
  {
   "cell_type": "code",
   "execution_count": 9,
   "metadata": {},
   "outputs": [
    {
     "name": "stderr",
     "output_type": "stream",
     "text": [
      "C:\\Users\\jisha\\Anaconda3\\lib\\site-packages\\matplotlib\\axes\\_axes.py:6462: UserWarning: The 'normed' kwarg is deprecated, and has been replaced by the 'density' kwarg.\n",
      "  warnings.warn(\"The 'normed' kwarg is deprecated, and has been \"\n"
     ]
    },
    {
     "data": {
      "image/png": "[encoded data removed]",
      "text/plain": [
       "<Figure size 432x288 with 2 Axes>"
      ]
     },
     "metadata": {},
     "output_type": "display_data"
    }
   ],
   "source": [
    "# Create a figure with two plots:\n",
    "fig, (boxplot, histogram) = plt.subplots(2, sharex=True, gridspec_kw={\"height_ratios\": (.15, .85)})\n",
    " \n",
    "# Add boxplot for temperature:\n",
    "sns.boxplot(df.temperature, ax=boxplot)\n",
    "\n",
    "# Add histogram for temperature:\n",
    "sns.distplot(df.temperature, ax=histogram)\n",
    "\n",
    "# Label axes and add title:\n",
    "plt.xlabel('Temperature ($^\\circ$F)', fontsize=14)\n",
    "plt.ylabel('PDF')\n",
    "plt.title('Distribution of Body Temperatures', fontsize=18)\n",
    "\n",
    "# Remove x-axis label for the boxplot:\n",
    "boxplot.set(xlabel='')\n",
    "\n",
    "# Display the plots:\n",
    "plt.show()"
   ]
  },
  {
   "cell_type": "markdown",
   "metadata": {},
   "source": [
    " Outliers are present,but the distribution of body temperatures appears normal. For the sake of ruling out binning bias and comparison to a theoretical normal distribution (and practice), a look at the Cumulative Distribution Function is next:"
   ]
  },
  {
   "cell_type": "code",
   "execution_count": 10,
   "metadata": {},
   "outputs": [],
   "source": [
    "# Define a function to compute the CDF:\n",
    "\n",
    "def cdf(data):\n",
    "    \"\"\"Compute CDF for a one-dimensional array of measurements.\"\"\"\n",
    "\n",
    "    # Number of data points:\n",
    "    n = len(data)\n",
    "\n",
    "    # x-data for the CDF:\n",
    "    x = np.sort(data)\n",
    "\n",
    "    # y-data for the CDF:\n",
    "    y = np.arange(1, n+1) / n\n",
    "\n",
    "    return x, y"
   ]
  },
  {
   "cell_type": "code",
   "execution_count": 11,
   "metadata": {},
   "outputs": [
    {
     "name": "stdout",
     "output_type": "stream",
     "text": [
      "n = 130 \n",
      "M = 98.24923076923078 \n",
      "s = 0.7303577789050377\n"
     ]
    }
   ],
   "source": [
    "# Compute and save variables for summarizing the empirical distribution -\n",
    "\n",
    "# Sample Size:\n",
    "n = len(df.temperature)\n",
    "\n",
    "# Sample Mean:\n",
    "M = np.mean(df.temperature)\n",
    "\n",
    "# Sample Standard Deviation:\n",
    "s = np.std(df.temperature)\n",
    "\n",
    "print('n =', n, '\\nM =', M, '\\ns =', s)"
   ]
  },
  {
   "cell_type": "code",
   "execution_count": 12,
   "metadata": {},
   "outputs": [
    {
     "data": {
      "text/plain": [
       "array([98.02111923, 98.49702999, 98.13536176, ..., 98.79844721,\n",
       "       97.6501198 , 98.22401087])"
      ]
     },
     "execution_count": 12,
     "metadata": {},
     "output_type": "execute_result"
    }
   ],
   "source": [
    "# Seed the random number generator:\n",
    "np.random.seed(15)\n",
    "\n",
    "\n",
    "# Simulate a random sample with the same statistics and size of 10,000:\n",
    "normal = np.random.normal(M, s, 10000)\n",
    "normal"
   ]
  },
  {
   "cell_type": "code",
   "execution_count": null,
   "metadata": {},
   "outputs": [],
   "source": []
  },
  {
   "cell_type": "markdown",
   "metadata": {},
   "source": [
    "## Is the sample size large? Are the observations independent?"
   ]
  },
  {
   "cell_type": "code",
   "execution_count": 13,
   "metadata": {},
   "outputs": [
    {
     "data": {
      "text/plain": [
       "130"
      ]
     },
     "execution_count": 13,
     "metadata": {},
     "output_type": "execute_result"
    }
   ],
   "source": [
    "len(df)"
   ]
  },
  {
   "cell_type": "markdown",
   "metadata": {},
   "source": [
    "Sample size > 30 and sufficiently large for CLT. Samples are independent because they are taken from different people."
   ]
  },
  {
   "cell_type": "code",
   "execution_count": 14,
   "metadata": {},
   "outputs": [
    {
     "data": {
      "text/html": [
       "<div>\n",
       "<style scoped>\n",
       "    .dataframe tbody tr th:only-of-type {\n",
       "        vertical-align: middle;\n",
       "    }\n",
       "\n",
       "    .dataframe tbody tr th {\n",
       "        vertical-align: top;\n",
       "    }\n",
       "\n",
       "    .dataframe thead th {\n",
       "        text-align: right;\n",
       "    }\n",
       "</style>\n",
       "<table border=\"1\" class=\"dataframe\">\n",
       "  <thead>\n",
       "    <tr style=\"text-align: right;\">\n",
       "      <th></th>\n",
       "      <th>temperature</th>\n",
       "      <th>gender</th>\n",
       "      <th>heart_rate</th>\n",
       "    </tr>\n",
       "  </thead>\n",
       "  <tbody>\n",
       "  </tbody>\n",
       "</table>\n",
       "</div>"
      ],
      "text/plain": [
       "Empty DataFrame\n",
       "Columns: [temperature, gender, heart_rate]\n",
       "Index: []"
      ]
     },
     "execution_count": 14,
     "metadata": {},
     "output_type": "execute_result"
    }
   ],
   "source": [
    "df[df.temperature.isnull()]"
   ]
  },
  {
   "cell_type": "markdown",
   "metadata": {},
   "source": [
    "As you can see from the above results, there are 130 observations in the given dataset. It is generally accepted that if a sample has more than 30 observations, the sample is large. So in this case, the sample size is large.\n",
    "\n",
    "Each random variable in this sample and population measures the temperature of a human and are independent observations."
   ]
  },
  {
   "cell_type": "code",
   "execution_count": 15,
   "metadata": {},
   "outputs": [
    {
     "data": {
      "image/png": "[encoded data removed]",
      "text/plain": [
       "<Figure size 432x288 with 1 Axes>"
      ]
     },
     "metadata": {},
     "output_type": "display_data"
    }
   ],
   "source": [
    "# Compute CDFs:\n",
    "x_temp, y_temp = cdf(df.temperature)\n",
    "x_norm, y_norm = cdf(normal)\n",
    "\n",
    "# Plot both CDFs on the same plot:\n",
    "fig = plt.plot(x_norm, y_norm)\n",
    "fig = plt.plot(x_temp, y_temp, marker='.', linestyle='none')\n",
    "\n",
    "# Label axes and add legend and a title:\n",
    "fig = plt.xlabel('Temperature ($^\\circ$F)', fontsize=14)\n",
    "fig = plt.ylabel('CDF')\n",
    "fig = plt.legend(('Normal Distribution', 'Empirical Data'), loc='center right')\n",
    "fig = plt.title('CDF Confirming the Normal Distribution of Body Temperatures', fontsize=18)\n",
    "\n",
    "\n",
    "# Save and display the plots:\n",
    "#plt.savefig('reports/figures/cdf_body_temps.png')\n",
    "plt.show()"
   ]
  },
  {
   "cell_type": "markdown",
   "metadata": {},
   "source": [
    "## Is the True Population Mean Really 98.6°F?\n",
    "### Is it best to use a one-sample or two-sample test? Why?\n",
    "### In this situation, is it appropriate to use the $t$ or $z$ statistic?\n",
    "### Try using the other test. How is the result different? Why?"
   ]
  },
  {
   "cell_type": "markdown",
   "metadata": {},
   "source": [
    "\n",
    "It is best to use a one-sample test since one set of data is compared to a single value. For this situation, it is best to use a t-statistic since the population standard deviation is unknown. Though a t-test is best for small samples, it becomes similar to the z-test with large samples, so the results shouldn't differ much."
   ]
  },
  {
   "cell_type": "markdown",
   "metadata": {},
   "source": [
    "\n",
    "Null Hypothesis: The true population mean is equal to the conventional mean (98.6$^\\circ$F).\n",
    "\n",
    "$$H_0: \\mu - 98.6 = 0$$"
   ]
  },
  {
   "cell_type": "markdown",
   "metadata": {},
   "source": [
    "Significance Level: 99.9% Confidence\n",
    "\n",
    "$$\\alpha = 0.01$$"
   ]
  },
  {
   "cell_type": "code",
   "execution_count": 16,
   "metadata": {},
   "outputs": [
    {
     "name": "stdout",
     "output_type": "stream",
     "text": [
      "t-statistic: -5.4548232923645195\n",
      "p-value: 2.4106320415561276e-07\n"
     ]
    }
   ],
   "source": [
    "# Save results of a one sample t-test:\n",
    "t = stats.ttest_1samp(df.temperature, 98.6)[0]\n",
    "p = stats.ttest_1samp(df.temperature, 98.6)[1]\n",
    "\n",
    "print('t-statistic:', t)\n",
    "print('p-value:', p)"
   ]
  },
  {
   "cell_type": "code",
   "execution_count": 17,
   "metadata": {},
   "outputs": [
    {
     "name": "stdout",
     "output_type": "stream",
     "text": [
      "-3.3675464541818454 3.367546454181878\n"
     ]
    }
   ],
   "source": [
    "# Print the quantiles of the t-distribution corresponding to\n",
    "# confidence level and degrees of freedom:\n",
    "print((stats.t.ppf(q=0.0005, df=n-1)), (stats.t.ppf(q=0.9995, df=n-1)))"
   ]
  },
  {
   "cell_type": "markdown",
   "metadata": {},
   "source": [
    "The t-statistic falls outside the t-distribution corresponding to a 99.9% confidence level and the p-value is certainly below the significance level of 0.01, so the null hypothesis can be rejected."
   ]
  },
  {
   "cell_type": "markdown",
   "metadata": {},
   "source": [
    "Let's look at a few more tests. The z-test is not the most appropriate since the population standard deviation is not known; however, it can be approximated using the standard error of the mean:"
   ]
  },
  {
   "cell_type": "code",
   "execution_count": 18,
   "metadata": {},
   "outputs": [
    {
     "data": {
      "text/plain": [
       "0.06405661469519336"
      ]
     },
     "execution_count": 18,
     "metadata": {},
     "output_type": "execute_result"
    }
   ],
   "source": [
    "# Calculate standard error of the mean:\n",
    "sem = s/np.sqrt(n)\n",
    "sem"
   ]
  },
  {
   "cell_type": "code",
   "execution_count": 20,
   "metadata": {},
   "outputs": [
    {
     "name": "stdout",
     "output_type": "stream",
     "text": [
      "z-statistic: -5.475925202078116\n",
      "p-value: 4.3523151658821886e-08\n"
     ]
    }
   ],
   "source": [
    "# Calculate and save z-statistic:\n",
    "z = (M - 98.6) / sem\n",
    "\n",
    "# Calculate and save p-value:\n",
    "p = stats.norm.cdf(z) * 2\n",
    "\n",
    "# Print the values for z and p:\n",
    "print('z-statistic:', z)\n",
    "print('p-value:', p)"
   ]
  },
  {
   "cell_type": "markdown",
   "metadata": {},
   "source": [
    "As expected, the z-statistic is very close to the t-statistic and the p-value is also very low.\n",
    "\n",
    "Another test method is to generate many sets of simulated data assuming the null hypothesis is true, then compute the test statistic for each simulated dataset:"
   ]
  },
  {
   "cell_type": "code",
   "execution_count": 21,
   "metadata": {},
   "outputs": [],
   "source": [
    "# Define bootstrap functions:\n",
    "\n",
    "def replicate(data, function):\n",
    "    \"\"\"Return replicate of a resampled data array.\"\"\"\n",
    "    \n",
    "    # Create the resampled array and return the statistic of interest:\n",
    "    return function(np.random.choice(data, size=len(data)))\n",
    "\n",
    "\n",
    "def draw_replicates(data, function, size=1):\n",
    "    \"\"\"Draw bootstrap replicates.\"\"\"\n",
    "\n",
    "    # Initialize array of replicates:\n",
    "    replicates = np.empty(size)\n",
    "\n",
    "    # Generate replicates:\n",
    "    for i in range(size):\n",
    "        replicates[i] = replicate(data, function)\n",
    "\n",
    "    return replicates"
   ]
  },
  {
   "cell_type": "code",
   "execution_count": 22,
   "metadata": {},
   "outputs": [
    {
     "name": "stdout",
     "output_type": "stream",
     "text": [
      "p-value = 0.0\n"
     ]
    }
   ],
   "source": [
    "# Seed the random number generator:\n",
    "np.random.seed(15)\n",
    "\n",
    "\n",
    "# Make an array of translated temperatures:\n",
    "translated_temps = df.temperature - M + 98.6\n",
    "\n",
    "# Draw bootstrap replicates of translated temperatures:\n",
    "translated_replicates = draw_replicates(translated_temps, np.mean, 10000)\n",
    "\n",
    "# Compute fraction of replicates that are less than the observed temperature mean:\n",
    "p = np.sum(translated_replicates <= M) / len(translated_replicates)\n",
    "\n",
    "# Print the p-value:\n",
    "print('p-value =', p)"
   ]
  },
  {
   "cell_type": "markdown",
   "metadata": {},
   "source": [
    "In every test the p-value is significantly less than 0.01, so the null hypothesis is rejected. There is sufficient evidence to warrant rejection of the claim that the true population mean is the conventional normal human body temperature of 98.6°F."
   ]
  },
  {
   "cell_type": "markdown",
   "metadata": {},
   "source": [
    "## Draw a Sample of Size 10 from the Data and Repeat Both Tests\n",
    "### Which one is the correct one to use?\n",
    "### What is noticeable? What does this say about the difference in application of the $t$ and $z$ statistic?"
   ]
  },
  {
   "cell_type": "markdown",
   "metadata": {},
   "source": [
    "\n",
    "This test meets the criteria for a t-test: the population standard deviation is unkown and the sample size is small."
   ]
  },
  {
   "cell_type": "code",
   "execution_count": 23,
   "metadata": {},
   "outputs": [
    {
     "data": {
      "text/plain": [
       "array([98.4, 97.9, 97.1, 98.7, 98.2, 98.4, 98.2, 98.8, 96.7, 96.4])"
      ]
     },
     "execution_count": 23,
     "metadata": {},
     "output_type": "execute_result"
    }
   ],
   "source": [
    "# Seed the random number generator:\n",
    "np.random.seed(15)\n",
    "\n",
    "\n",
    "# Draw a random sample of 10 from the temperature data:\n",
    "sample = np.random.choice(df.temperature, size=10)\n",
    "sample"
   ]
  },
  {
   "cell_type": "code",
   "execution_count": 24,
   "metadata": {},
   "outputs": [
    {
     "name": "stdout",
     "output_type": "stream",
     "text": [
      "t-statistic: -2.6882644585784705\n",
      "p-value: 0.024867110651187487\n"
     ]
    }
   ],
   "source": [
    "# Save results of a one sample t-test:\n",
    "t = stats.ttest_1samp(sample, 98.6)[0]\n",
    "p = stats.ttest_1samp(sample, 98.6)[1]\n",
    "\n",
    "print('t-statistic:', t)\n",
    "print('p-value:', p)"
   ]
  },
  {
   "cell_type": "code",
   "execution_count": 25,
   "metadata": {},
   "outputs": [
    {
     "name": "stdout",
     "output_type": "stream",
     "text": [
      "z-statistic: -2.833679547329114\n",
      "p-value: 0.004601545004804199\n"
     ]
    }
   ],
   "source": [
    "# Calculate and save z-statistic:\n",
    "z = (np.mean(sample) - 98.6) / (np.std(sample)/np.sqrt(len(sample)))\n",
    "\n",
    "# Calculate and save p-value:\n",
    "p = stats.norm.cdf(z) * 2\n",
    "\n",
    "# Print the values for z and p:\n",
    "print('z-statistic:', z)\n",
    "print('p-value:', p)"
   ]
  },
  {
   "cell_type": "code",
   "execution_count": 26,
   "metadata": {},
   "outputs": [
    {
     "name": "stdout",
     "output_type": "stream",
     "text": [
      "-2.262157162740992 2.2621571627409915\n"
     ]
    }
   ],
   "source": [
    "# Print the quantiles of the t-distribution corresponding to\n",
    "# confidence level (95%) and degrees of freedom:\n",
    "print((stats.t.ppf(q=0.025, df=10-1)), (stats.t.ppf(q=0.975, df=10-1)))"
   ]
  },
  {
   "cell_type": "code",
   "execution_count": 27,
   "metadata": {},
   "outputs": [
    {
     "name": "stdout",
     "output_type": "stream",
     "text": [
      "-4.780912585933472 4.7809125859335495\n"
     ]
    }
   ],
   "source": [
    "# Print the quantiles of the t-distribution corresponding to\n",
    "# confidence level (99.9%) and degrees of freedom:\n",
    "print((stats.t.ppf(q=0.0005, df=10-1)), (stats.t.ppf(q=0.9995, df=10-1)))"
   ]
  },
  {
   "cell_type": "markdown",
   "metadata": {},
   "source": [
    "The test statistic falls outside the t-distribution corresponding to a 95% confidence level, but not 99.9%. The p-value for the z-test is below both significance levels, but the p-value for the t-test indicates significance only at the 95% level. Both tests provide evidence to reject the null hypothesis. The difference in results reflects the nature of the two distributions. The t-distribution is wider so there is more variability. This makes the t-test less sensitive."
   ]
  },
  {
   "cell_type": "markdown",
   "metadata": {},
   "source": [
    "## At what value is one's temperature considered 'abnormal'?\n",
    "Start by computing the margin of error and confidence interval."
   ]
  },
  {
   "cell_type": "code",
   "execution_count": 33,
   "metadata": {},
   "outputs": [
    {
     "data": {
      "text/plain": [
       "3.2905267314919255"
      ]
     },
     "execution_count": 33,
     "metadata": {},
     "output_type": "execute_result"
    }
   ],
   "source": [
    "# Save the critical value at 99.95% confidence:\n",
    "z_critical = norm.ppf(0.9995)\n",
    "z_critical"
   ]
  },
  {
   "cell_type": "code",
   "execution_count": 34,
   "metadata": {},
   "outputs": [
    {
     "name": "stdout",
     "output_type": "stream",
     "text": [
      "Standard Error of the Mean: 0.06405661469519336\n",
      "Margin of Error: 0.21078000298341226\n"
     ]
    }
   ],
   "source": [
    "print('Standard Error of the Mean:', sem)\n",
    "\n",
    "# Calculate and save the margin of error:\n",
    "moe = z_critical * sem\n",
    "print('Margin of Error:', moe)"
   ]
  },
  {
   "cell_type": "code",
   "execution_count": 35,
   "metadata": {},
   "outputs": [
    {
     "name": "stdout",
     "output_type": "stream",
     "text": [
      "99.9% Confidence Interval: [98.03845077 98.46001077]\n"
     ]
    }
   ],
   "source": [
    "# Calculate and save the 99.9% confidence interval:\n",
    "CI = np.array([M - moe, M + moe])\n",
    "print('99.9% Confidence Interval:', CI)"
   ]
  },
  {
   "cell_type": "markdown",
   "metadata": {},
   "source": [
    "Another method to check the confidence interval:"
   ]
  },
  {
   "cell_type": "code",
   "execution_count": 36,
   "metadata": {},
   "outputs": [
    {
     "name": "stdout",
     "output_type": "stream",
     "text": [
      "99.9% Confidence Interval: [98.04384577 98.45923154]\n"
     ]
    }
   ],
   "source": [
    "# Seed the random number generator:\n",
    "np.random.seed(15)\n",
    "\n",
    "\n",
    "# Draw bootstrap replicates of temperatures:\n",
    "replicates = draw_replicates(df.temperature, np.mean, 10000)\n",
    "\n",
    "# Compute the 99.9% confidence interval:\n",
    "CI = np.percentile(replicates, [0.05, 99.95])\n",
    "print('99.9% Confidence Interval:', CI)"
   ]
  },
  {
   "cell_type": "code",
   "execution_count": 37,
   "metadata": {},
   "outputs": [
    {
     "name": "stdout",
     "output_type": "stream",
     "text": [
      "95% Prediction Interval: (96.81775582674824, 99.68070571171332)\n"
     ]
    }
   ],
   "source": [
    "# Calculate and save the 95% prediction interval:\n",
    "PI = stats.norm.interval(0.95, loc=M, scale=s)\n",
    "print('95% Prediction Interval:', PI)"
   ]
  },
  {
   "cell_type": "markdown",
   "metadata": {},
   "source": [
    "This calculation says that we 95% of the population lies between 96.82 and 99.68. Temperatures outside this range would be considered \"abnormal.\""
   ]
  },
  {
   "cell_type": "code",
   "execution_count": 38,
   "metadata": {},
   "outputs": [
    {
     "name": "stderr",
     "output_type": "stream",
     "text": [
      "C:\\Users\\jisha\\Anaconda3\\lib\\site-packages\\matplotlib\\axes\\_axes.py:6462: UserWarning: The 'normed' kwarg is deprecated, and has been replaced by the 'density' kwarg.\n",
      "  warnings.warn(\"The 'normed' kwarg is deprecated, and has been \"\n"
     ]
    },
    {
     "data": {
      "image/png": "[encoded data removed]",
      "text/plain": [
       "<Figure size 432x288 with 2 Axes>"
      ]
     },
     "metadata": {},
     "output_type": "display_data"
    }
   ],
   "source": [
    "# Create a figure with two plots:\n",
    "fig, (boxplot, histogram) = plt.subplots(2, sharex=True, gridspec_kw={\"height_ratios\": (.15, .85)})\n",
    "\n",
    "# Add boxplot for temperature:\n",
    "sns.boxplot(df.temperature, ax=boxplot)\n",
    "\n",
    "# Add histogram for temperature:\n",
    "sns.distplot(df.temperature, ax=histogram)\n",
    "\n",
    "# Increase tick mark font size, label axes and add title:\n",
    "plt.tick_params(axis='x', which='major', labelsize=14)\n",
    "plt.xlabel('Temperature ($^\\circ$F)', fontsize=14)\n",
    "plt.ylabel('PDF')\n",
    "plt.title('Distribution of Temperatures', fontsize=18)\n",
    "\n",
    "# Add text and lines marking the 99.9% confidence interval:\n",
    "plt.text(x=CI[0]-0.65, y=0.2, s='0.05% CI')\n",
    "plt.vlines(ymin=0, ymax=0.2, x=CI[0])\n",
    "plt.text(x=CI[1]-0.1, y=0.2, s='99.95% CI')\n",
    "plt.vlines(ymin=0, ymax=0.2, x=CI[1])\n",
    "\n",
    "# Add a lines for different means:\n",
    "plt.text(x=M-0.15, y=0.6, s='$\\overline{x}$')\n",
    "plt.vlines(ymin=0, ymax=0.6, x=M, color='red')\n",
    "plt.text(x=98.6, y=0.6, s='98.6$^\\circ$F')\n",
    "plt.vlines(ymin=0, ymax=0.6, x=98.6, color='green')\n",
    "\n",
    "# Add text and lines marking the 95% prediction interval:\n",
    "plt.text(x=PI[0]-0.65, y=0.2, s='2.5% PI')\n",
    "plt.vlines(ymin=0, ymax=0.2, x=PI[0])\n",
    "plt.text(x=PI[1], y=0.2, s='97.5% PI')\n",
    "plt.vlines(ymin=0, ymax=0.2, x=PI[1])\n",
    "\n",
    "# Remove x-axis label for the boxplot:\n",
    "boxplot.set(xlabel='')\n",
    "\n",
    "# Save and display the plots:\n",
    "#plt.savefig('reports/figures/pdf_temps.png')\n",
    "plt.show()"
   ]
  },
  {
   "cell_type": "markdown",
   "metadata": {},
   "source": [
    "Since a temperature at or below 95°F is considered hypothermia and a temperature at or above 100°F is a fever, temperatures outside the range of 96.8 to 99.7°F seem to fit the definition of abnormal."
   ]
  },
  {
   "cell_type": "markdown",
   "metadata": {},
   "source": [
    "## Is There a Significant Difference Between Males and Females in Normal Temperature?¶\n",
    "     What test is used and why?"
   ]
  },
  {
   "cell_type": "code",
   "execution_count": 43,
   "metadata": {},
   "outputs": [
    {
     "data": {
      "image/png": "[encoded data removed]",
      "text/plain": [
       "<Figure size 432x288 with 1 Axes>"
      ]
     },
     "metadata": {},
     "output_type": "display_data"
    }
   ],
   "source": [
    "# Create boxplots for temperature by gender:\n",
    "fig = sns.boxplot(x='gender', y='temperature', data=df)\n",
    "\n",
    "# Increase tick mark font size, label axes and add title:\n",
    "plt.tick_params(axis='x', which='major', labelsize=14)\n",
    "fig = plt.xlabel('Gender', fontsize=14)\n",
    "fig = plt.ylabel('Temperature ($^\\circ$F)')\n",
    "plt.title('Distribution of Female & Male Body Temperatures', fontsize=18)\n",
    "\n",
    "# Display the plots:\n",
    "plt.show()"
   ]
  },
  {
   "cell_type": "markdown",
   "metadata": {},
   "source": [
    "There does seem to be a difference between the two but note immediately that the means for both genders are within the IQR (interquartile range) of each other. This clues us to the fact that their respective means are not that far from each other. Of course, we can calculate some numbers to verify this suspicion.\n"
   ]
  },
  {
   "cell_type": "code",
   "execution_count": 44,
   "metadata": {},
   "outputs": [
    {
     "data": {
      "text/plain": [
       "(65, 3)"
      ]
     },
     "execution_count": 44,
     "metadata": {},
     "output_type": "execute_result"
    }
   ],
   "source": [
    "##Male Temperatures\n",
    "men=df[df.gender=='M']\n",
    "men.shape"
   ]
  },
  {
   "cell_type": "code",
   "execution_count": 45,
   "metadata": {},
   "outputs": [
    {
     "data": {
      "text/plain": [
       "98.1046153846154"
      ]
     },
     "execution_count": 45,
     "metadata": {},
     "output_type": "execute_result"
    }
   ],
   "source": [
    "men_mean_temp=men.temperature.mean()\n",
    "men_mean_temp"
   ]
  },
  {
   "cell_type": "code",
   "execution_count": 52,
   "metadata": {},
   "outputs": [
    {
     "data": {
      "text/plain": [
       "(65, 3)"
      ]
     },
     "execution_count": 52,
     "metadata": {},
     "output_type": "execute_result"
    }
   ],
   "source": [
    "##Female Temperatures\n",
    "fem=df[df.gender=='F']\n",
    "fem.shape"
   ]
  },
  {
   "cell_type": "code",
   "execution_count": 47,
   "metadata": {},
   "outputs": [
    {
     "data": {
      "text/plain": [
       "98.39384615384613"
      ]
     },
     "execution_count": 47,
     "metadata": {},
     "output_type": "execute_result"
    }
   ],
   "source": [
    "fem_mean_temp=fem.temperature.mean()\n",
    "fem_mean_temp"
   ]
  },
  {
   "cell_type": "code",
   "execution_count": 48,
   "metadata": {},
   "outputs": [
    {
     "data": {
      "text/plain": [
       "0.6987557623265908"
      ]
     },
     "execution_count": 48,
     "metadata": {},
     "output_type": "execute_result"
    }
   ],
   "source": [
    "men_std_temp=men.temperature.std()\n",
    "men_std_temp"
   ]
  },
  {
   "cell_type": "code",
   "execution_count": 49,
   "metadata": {},
   "outputs": [
    {
     "data": {
      "text/plain": [
       "0.7434877527313665"
      ]
     },
     "execution_count": 49,
     "metadata": {},
     "output_type": "execute_result"
    }
   ],
   "source": [
    "fem_std_temp=fem.temperature.std()\n",
    "fem_std_temp"
   ]
  },
  {
   "cell_type": "code",
   "execution_count": 50,
   "metadata": {},
   "outputs": [
    {
     "data": {
      "text/plain": [
       "0.289230769230727"
      ]
     },
     "execution_count": 50,
     "metadata": {},
     "output_type": "execute_result"
    }
   ],
   "source": [
    "## Diference in mean of Male and Female temperatures\n",
    "mean_diff=fem_mean_temp - men_mean_temp\n",
    "mean_diff"
   ]
  },
  {
   "cell_type": "code",
   "execution_count": 51,
   "metadata": {},
   "outputs": [
    {
     "data": {
      "text/plain": [
       "0.12655395041982642"
      ]
     },
     "execution_count": 51,
     "metadata": {},
     "output_type": "execute_result"
    }
   ],
   "source": [
    "## Standard Error Calculation\n",
    "SE=((men_std_temp**2)/65 + (fem_std_temp**2)/65)**0.5\n",
    "SE"
   ]
  },
  {
   "cell_type": "code",
   "execution_count": 57,
   "metadata": {},
   "outputs": [
    {
     "data": {
      "text/plain": [
       "127.5103008303909"
      ]
     },
     "execution_count": 57,
     "metadata": {},
     "output_type": "execute_result"
    }
   ],
   "source": [
    "## Degrees of Freedom Calculation\n",
    "F1=fem_std_temp**2/65\n",
    "M1=men_std_temp**2/65\n",
    "\n",
    "DF=((F1+M1)**2)/(((F1**2)/64)+((M1**2)/64))\n",
    "DF"
   ]
  },
  {
   "cell_type": "code",
   "execution_count": 58,
   "metadata": {},
   "outputs": [
    {
     "data": {
      "text/plain": [
       "2.285434538165274"
      ]
     },
     "execution_count": 58,
     "metadata": {},
     "output_type": "execute_result"
    }
   ],
   "source": [
    "## Use 0.05 Significance level in two sample t-test\n",
    "t_val=((fem_mean_temp-men_mean_temp)-0)/SE\n",
    "t_val"
   ]
  },
  {
   "cell_type": "code",
   "execution_count": 59,
   "metadata": {},
   "outputs": [
    {
     "data": {
      "text/plain": [
       "0.023657711289024146"
      ]
     },
     "execution_count": 59,
     "metadata": {},
     "output_type": "execute_result"
    }
   ],
   "source": [
    "p_value = stats.t.sf(np.abs(2.29), 128)*2  # two-sided pvalue = Prob(abs(t)>tt)\n",
    "p_value"
   ]
  },
  {
   "cell_type": "code",
   "execution_count": 61,
   "metadata": {},
   "outputs": [
    {
     "name": "stdout",
     "output_type": "stream",
     "text": [
      "Null hypothesis- female and male temperature are the same will be rejected.\n",
      "There is significance difference between male and female body temperatures.\n"
     ]
    }
   ],
   "source": [
    "if p_value<0.05:\n",
    "    print('Null hypothesis- female and male temperature are the same will be rejected.')\n",
    "    print('There is significance difference between male and female body temperatures.')\n",
    "else: \n",
    "    print(' Mean of female and amle temperature are the same IS TRUE!')"
   ]
  },
  {
   "cell_type": "code",
   "execution_count": 62,
   "metadata": {},
   "outputs": [
    {
     "data": {
      "image/png": "[encoded data removed]",
      "text/plain": [
       "<Figure size 432x288 with 1 Axes>"
      ]
     },
     "metadata": {},
     "output_type": "display_data"
    }
   ],
   "source": [
    "##Normal Distribution graph of Male and Female Temperatures\n",
    "x = np.linspace(96,101,130)\n",
    "y1 = stats.norm.pdf(x, loc=men_mean_temp, scale=men_std_temp)    \n",
    "pylab.plot(x,y1)\n",
    "\n",
    "y2 = stats.norm.pdf(x, loc=fem_mean_temp, scale=fem_std_temp)    \n",
    "pylab.plot(x,y2)\n",
    "pylab.xlabel('Temperature')\n",
    "pylab.ylabel('PDF')\n",
    "pylab.vlines(men_mean_temp,0, 0.6, color='blue')\n",
    "pylab.vlines(fem_mean_temp,0,0.6, color='red')\n",
    "pylab.legend(['M', 'F', '98.10 F', '98.39 F'])\n",
    "pylab.title('Male and Female Body Temperature')\n",
    "pylab.show()"
   ]
  },
  {
   "cell_type": "markdown",
   "metadata": {},
   "source": [
    "The null hypothesis was rejected. There is a difference in human body temperatures between females and males."
   ]
  }
 ],
 "metadata": {
  "kernelspec": {
   "display_name": "Python 3",
   "language": "python",
   "name": "python3"
  },
  "language_info": {
   "codemirror_mode": {
    "name": "ipython",
    "version": 3
   },
   "file_extension": ".py",
   "mimetype": "text/x-python",
   "name": "python",
   "nbconvert_exporter": "python",
   "pygments_lexer": "ipython3",
   "version": "3.6.5"
  }
 },
 "nbformat": 4,
 "nbformat_minor": 1
}
